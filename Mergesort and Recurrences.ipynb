{
 "cells": [
  {
   "cell_type": "markdown",
   "id": "1f07f37a",
   "metadata": {},
   "source": [
    "## Mergesort and Recurrences"
   ]
  },
  {
   "cell_type": "markdown",
   "id": "d5b30b39",
   "metadata": {},
   "source": [
    "For this exercise, assume that the call to the algorithm is MERGE(A, 1, 3, 6) and identify the different resulting stages of the arrays A, L, and R as the merge algorithm is executed. If you would like to hand-draw or use any drawing tool to produce panel illustrations as in the example above, feel free to include a link here to your drawings. "
   ]
  },
  {
   "cell_type": "markdown",
   "id": "d890897e",
   "metadata": {},
   "source": [
    "https://drive.google.com/file/d/1hTuVEkZ3R4Npg4xMX5nvcVdCiNHsJonX/view?usp=sharing"
   ]
  },
  {
   "cell_type": "markdown",
   "id": "6c7117f3",
   "metadata": {},
   "source": [
    "### Code\n",
    "Write a Python implementation of the merge pseudocode. Your Python function must take the same four input arguments as described in the 𝑀𝐸𝑅𝐺𝐸(𝐴,𝑝,𝑞,𝑟). Your code should return the sorted array, A."
   ]
  },
  {
   "cell_type": "code",
   "execution_count": 6,
   "id": "1904565b",
   "metadata": {},
   "outputs": [
    {
     "name": "stdout",
     "output_type": "stream",
     "text": [
      "[1, 4, 7, 4, 8, -1, 5, 0]\n",
      "[1, 4, 7, 4, 8, -1, 5, 0]\n",
      "[1, 4, -1, 5, 7, 4, 8, 0]\n",
      "[1, 4, 4, 7, 8, -1, 5, 0]\n"
     ]
    }
   ],
   "source": [
    "def merge(A, p, q, r):\n",
    "    # compute the lengths of subarrays\n",
    "    n1 = q-p+1\n",
    "    n2 = r-q\n",
    "    # create arrays to divide an array A\n",
    "    L = [0]*(n1+1)\n",
    "    R = [0]*(n2+1)\n",
    "    # looping through the indexes of the subarrays\n",
    "    for i in range (n1):\n",
    "        L[i] = A[p+i]\n",
    "    for j in range (n2):\n",
    "        R[j] = A[q+j+1]\n",
    "    #set sentinel units\n",
    "    L[n1] = 1000000\n",
    "    R[n2] = 1000000\n",
    "    #set initial indexes of subarrays L and R\n",
    "    i = 0\n",
    "    j = 0    \n",
    "    # merging the subarrays\n",
    "    for k in range (p,r+1):\n",
    "        if L[i] <= R[j]:\n",
    "            A[k] = L[i]         \n",
    "            i = i+1\n",
    "        else:\n",
    "            A[k] = R[j]\n",
    "            j = j+1\n",
    "    print(A)\n",
    "    return A\n",
    "\n",
    "merged_results = [merge([1,4,7,4,8,-1,5,0],1,3,5), merge([1,4,7,4,8,-1,5,0], 0,3,5), \n",
    "                  merge([1,4,7,4,8,-1,5,0], 2,4,6), merge([1,4,7,4,8,-1,5,0], 2,2,6)]"
   ]
  },
  {
   "cell_type": "markdown",
   "id": "34bb7835",
   "metadata": {},
   "source": [
    "Complete the final code for the merge_sort function below, which will also call the merge function above."
   ]
  },
  {
   "cell_type": "code",
   "execution_count": 7,
   "id": "c2d5eeb5",
   "metadata": {},
   "outputs": [
    {
     "name": "stdout",
     "output_type": "stream",
     "text": [
      "[0, 3, 6, 2]\n",
      "[0, 3, 2, 6]\n",
      "[0, 2, 3, 6]\n",
      "[0, 2, 3, 6]\n"
     ]
    }
   ],
   "source": [
    "def merge_sort(A,p,r):\n",
    "    if (p<r):\n",
    "        q = (p+r)//2  \n",
    "        merge_sort(A, p, q) \n",
    "        merge_sort(A, q+1, r) \n",
    "        merge(A,p,q,r) \n",
    "    return A\n",
    "\n",
    "array = [0,3,6,2]\n",
    "merge_sort(array, 0, len(array) - 1)\n",
    "print (array)"
   ]
  }
 ],
 "metadata": {
  "kernelspec": {
   "display_name": "Python 3 (ipykernel)",
   "language": "python",
   "name": "python3"
  },
  "language_info": {
   "codemirror_mode": {
    "name": "ipython",
    "version": 3
   },
   "file_extension": ".py",
   "mimetype": "text/x-python",
   "name": "python",
   "nbconvert_exporter": "python",
   "pygments_lexer": "ipython3",
   "version": "3.9.7"
  }
 },
 "nbformat": 4,
 "nbformat_minor": 5
}
