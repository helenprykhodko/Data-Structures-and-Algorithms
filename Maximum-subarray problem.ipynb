{
 "cells": [
  {
   "cell_type": "markdown",
   "id": "a383ed32",
   "metadata": {},
   "source": [
    "## Asymptotic notations. Maximum-subarray problem\n",
    "\n",
    "Write a function in Python that solves the maximum-subarray problem using a **brute-force approach**. Your Python function must:\n",
    "\n",
    "1. Take as Input an array/list of numbers\n",
    "2. Produces an Output given by a 3-tuple where:\n",
    "   - the first and second elements are the start and the end indices of the subarray containing the maximum sum,\n",
    "   - the final element is the value of the maximum subarray (float)"
   ]
  },
  {
   "cell_type": "code",
   "execution_count": 3,
   "id": "c1c754a0",
   "metadata": {},
   "outputs": [
    {
     "name": "stdout",
     "output_type": "stream",
     "text": [
      "(2, 2, 4)\n",
      "(0, 0, -1)\n"
     ]
    }
   ],
   "source": [
    "def bruteforce_max_subarray(A):\n",
    "    \"\"\"Implements brute-force maximum subarray finding.\n",
    "    \n",
    "    Inputs:\n",
    "    - A: a NON-EMPTY list of floats\n",
    "    \n",
    "    Outputs: A tuple of\n",
    "    - the start index of the max subarray\n",
    "    - the end index of the max subarray\n",
    "    - the value of the maximum subarray\n",
    "    \"\"\"\n",
    "    # Initialize indeces.\n",
    "    start = 0 \n",
    "    end = 0 \n",
    "    maxi = -float(\"inf\") \n",
    "    \n",
    "    for i in range (len(A)): \n",
    "        for j in range (i, len(A)): \n",
    "            current_sum = sum(A[i:(j+1)])  # Sum of indeces; add 1 to reach the last\n",
    "            if current_sum > maxi: \n",
    "                maxi = current_sum \n",
    "                start = i \n",
    "                end = j \n",
    "    return (start, end, maxi)\n",
    "\n",
    "print(bruteforce_max_subarray([-2, -3, 4, -1, -2, 1]))\n",
    "print(bruteforce_max_subarray([-1]*10))\n",
    "assert(bruteforce_max_subarray([13, -3, -25, 20, -3, -16, -23, 18, 20, -7, 12, -5, -22, 15, -4, 7]) == (7,10,43))"
   ]
  },
  {
   "cell_type": "markdown",
   "id": "aea98e7d",
   "metadata": {},
   "source": [
    "### Minimum-subarray problem\n",
    "Now that you have a coding solution to finding the maximum subarray problem, how could we use it so that we can find the minimum subarray problem? Write that code below. As before, your Python function must:\n",
    "\n",
    "1. Take as Input an array/list of numbers\n",
    "2. Produces an Output given by a 3-tuple where:\n",
    "   - the first and second elements are the start and the end indices of the subarray containing the maximum sum,\n",
    "   - the final element is the value of the minimum subarray (float)"
   ]
  },
  {
   "cell_type": "code",
   "execution_count": 2,
   "id": "d4bc9652",
   "metadata": {},
   "outputs": [],
   "source": [
    "def bruteforce_min_subarray(A):\n",
    "    start = 0 # starting index\n",
    "    end = 0 # ending index\n",
    "    mini = float(\"inf\") # initialize the sum of subarray to 0 so we could change it\n",
    "    \n",
    "    for i in range (len(A)): \n",
    "        for j in range (i, len(A)): \n",
    "            current_sum = sum(A[i:(j+1)]) # assign current max ith and jth' sum\n",
    "            if current_sum < mini: # compare the current to previous ones\n",
    "                mini = current_sum # assign a new sum if bigger \n",
    "                start = i # replace the start index with max subarray index\n",
    "                end = j # subtract one to reach the last index\n",
    "    return (start, end, mini)\n",
    "\n",
    "# testing your code\n",
    "assert(bruteforce_min_subarray([1]*10)[0] == bruteforce_min_subarray([1]*10)[1])\n",
    "assert(bruteforce_min_subarray([1]*10)[2] == 1)"
   ]
  },
  {
   "cell_type": "markdown",
   "id": "eae14d51",
   "metadata": {},
   "source": [
    "### Incremental max-subarray\n",
    "\n",
    "Complete the Python function incremental_max_subarray(x, mx) in the cell below, that iteratively computes the maximum subarray for an array.\n",
    "\n",
    "For example, if x is [-2, -3, 4, -1, -2, 1, 8], the result of incremental_max_subarray(x, 4) is 10 (10 = 4 -1 -2 +1 +8). Note that 4 is the maximum-subarray sum corresponding to x[:len(x)-1]."
   ]
  },
  {
   "cell_type": "code",
   "execution_count": 4,
   "id": "9cba7554",
   "metadata": {},
   "outputs": [
    {
     "name": "stdout",
     "output_type": "stream",
     "text": [
      "10\n"
     ]
    }
   ],
   "source": [
    "def incremental_max_subarray(x, mx):\n",
    "    \"\"\" \n",
    "    Inputs:\n",
    "    - x: a NON-EMPTY list of numbers (e.g., the array B in the first two questions above). \n",
    "        * If x has 1 element: returns the value of the element regardless of the value of mx\n",
    "    - mx: the maximum subarray of x excluding its last element (i.e., compute the \n",
    "    maximum subarray of the input array x considering only its first len(x) - 1 elements)\n",
    "    \n",
    "    Output: The maximum subarray of the array x.\n",
    "    \"\"\"\n",
    "    # Return the first element \n",
    "    # if there is only one or less.\n",
    "    if len(x) <= 1:\n",
    "        return(x[0])\n",
    "    \n",
    "    # Initialize the sentinel.\n",
    "    maxi = -float('inf')\n",
    "    \n",
    "    # Looping through the array.\n",
    "    for i in range(len(x)):\n",
    "        # Find the current maximum sum.\n",
    "        maxi = sum(x[i:len(x)])   \n",
    "        \n",
    "        # Replace the sum if the \n",
    "        # greater one was found.\n",
    "        if maxi > mx:\n",
    "            mx = maxi\n",
    "    return mx\n",
    "\n",
    "print(incremental_max_subarray([-2, -3, 4, -1, -2, 1, 8], 4))    "
   ]
  },
  {
   "cell_type": "code",
   "execution_count": 5,
   "id": "10d4c2fe",
   "metadata": {},
   "outputs": [],
   "source": [
    "B = [-2, -3, 4, -1, -2, 1, 8]\n",
    "assert(incremental_max_subarray(B, 4) == 10)\n",
    "# if the input has a single element, the value of mx is irrelevant\n",
    "assert(incremental_max_subarray(B[:1], 0) == B[0])"
   ]
  },
  {
   "cell_type": "markdown",
   "id": "9642f724",
   "metadata": {},
   "source": [
    "#### Now use incremental_max_subarray(x, mx) iteratively, starting from the first element, to calculate the maximum subarray of a given list. "
   ]
  },
  {
   "cell_type": "code",
   "execution_count": 6,
   "id": "5dfb189a",
   "metadata": {},
   "outputs": [],
   "source": [
    "def max_subarray(A):\n",
    "    \"\"\"\n",
    "    Using `incremental_max_subarray` iteratively on A to produce the value of the maximum\n",
    "    subarray of A.\n",
    "    \n",
    "    Inputs:\n",
    "    - A: a NON-EMPTY list of floats\n",
    "    \n",
    "    Outputs: float, the sum of the maximum subarray of A\n",
    "    \"\"\"\n",
    "    # Initialize the sentinel.\n",
    "    maxi = -float('inf')\n",
    "    \n",
    "    # Looping for the length of the array.\n",
    "    # Call the function to iterrate through subarrays.\n",
    "    for i in range(len(A)):\n",
    "        maxi = incremental_max_subarray(A[0:i+1], maxi)\n",
    "    return maxi\n",
    "\n",
    "N = [0]\n",
    "H = [1,2,3,4,5,6,7,8,8,9,10]\n",
    "R = [0,-2,49,1,2,4,-5]\n",
    "assert(max_subarray(N) == 0)\n",
    "assert(max_subarray(H) == 63)\n",
    "assert(max_subarray(R) == 56)"
   ]
  }
 ],
 "metadata": {
  "kernelspec": {
   "display_name": "Python 3 (ipykernel)",
   "language": "python",
   "name": "python3"
  },
  "language_info": {
   "codemirror_mode": {
    "name": "ipython",
    "version": 3
   },
   "file_extension": ".py",
   "mimetype": "text/x-python",
   "name": "python",
   "nbconvert_exporter": "python",
   "pygments_lexer": "ipython3",
   "version": "3.9.7"
  }
 },
 "nbformat": 4,
 "nbformat_minor": 5
}
