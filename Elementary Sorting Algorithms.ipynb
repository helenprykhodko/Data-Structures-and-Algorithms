{
 "cells": [
  {
   "cell_type": "markdown",
   "metadata": {},
   "source": [
    "## Elementary Sorting Algorthms\n"
   ]
  },
  {
   "cell_type": "markdown",
   "metadata": {},
   "source": [
    "### Insertion Sort"
   ]
  },
  {
   "cell_type": "code",
   "execution_count": 3,
   "metadata": {},
   "outputs": [],
   "source": [
    "def insertion_sort(A):\n",
    "    for j in range(1, len(A)): # the range started with 2 instead of 1. So the first element on the \"right\" side was not in consideration. \n",
    "        key = A[j] # key is the number we are sorting at the moment; at first iteration j = 1, so we start sortion with the first number in the list on the right side (the actual first number, the one with index 0, is always sorted). \n",
    "        i = j-1 # index of the number before the one we are sorting (key)\n",
    "        while i >= 0 and A[i] > key: # we go into the loop only if the index of the number is more or equal to 0 (a negative index doesn't exist in the list) AND the number in the position before the number we are sorting is greater than the number we are sorting. Thus, the while loop will help us to sort.\n",
    "            A[i+1] = A[i] # we change the number with index of the \"key\" number (i+1) on the number at the left of the \"key\" number. So, now we get A[i+1] and A[i] equal the same number.That's why we need the next line.\n",
    "            i -= 1 # lessen the index number by one, so that the next line can change the number on the left of the previous \"key\" to the actual \"key\" number. Thus, the algorithm will change places of two numbers and put them in the right order. \n",
    "        A[i+1] = key \n",
    "    return A\n",
    "\n",
    "#testcases\n",
    "assert(insertion_sort([0]) == [0])\n",
    "assert(insertion_sort([-1,1]) == [-1,1])\n",
    "assert(insertion_sort([1,-1]) == [-1,1])\n",
    "assert(insertion_sort([1,6,3,6]) == [1,3,6,6])\n",
    "assert(insertion_sort([7, 3, 5, 4, 6, 4]) == [3, 4, 4, 5, 6, 7])"
   ]
  },
  {
   "cell_type": "markdown",
   "metadata": {},
   "source": [
    "### Bubble Sort"
   ]
  },
  {
   "cell_type": "code",
   "execution_count": 2,
   "metadata": {},
   "outputs": [],
   "source": [
    "def bubble_sort(A): #creating a function to produce a bubble sort\n",
    "    for i in range (0, len(A)-1):  #starting a for loop to check for every number in the array; i - the number of times the iteration will run. We subtract one from the length of the list because the first number in the list has index 0; thus the last one will have len(A)-1.\n",
    "        for j in range (0, len(A)-i-1): # create a nested for loop to continue checking and switching (when needed) numbers till the end of the list. j - the number index we are checking. We subtract 1 from the list here so that later, j+1 was inside the array and there was no error. Plus, we subtract i, so we do not check the last number which has already been sorted. In first iteration, i = 0, so all numbers are checked. \n",
    "            if A[j] > A[j+1]: # compare two consecutive numbers; if the previous is greater, we enter the if statement. \n",
    "                jstore = A[j] # store the value of the number with index j\n",
    "                A[j] = A[j+1] # assign to index j a number that is smaller --> the number with index j+1.\n",
    "                A[j+1] = jstore # assign to index j+1 the greater number the value of which we stored before\n",
    "    return A # return A after the main loop finishes checking that number of times included in range\n",
    "\n",
    "# testcases - nothing will be printed if all the statements are True. If any of those are False, the AssertError will appear.\n",
    "assert(bubble_sort([0]) == [0])\n",
    "assert(bubble_sort([10,-5]) == [-5,10])\n",
    "assert(bubble_sort([153,5,10,1,4,-2]) == [-2,1,4,5,10,153])"
   ]
  },
  {
   "cell_type": "markdown",
   "metadata": {},
   "source": [
    "### Selection Sort"
   ]
  },
  {
   "cell_type": "code",
   "execution_count": null,
   "metadata": {},
   "outputs": [],
   "source": [
    "def selection_sort(A): #creating a function to produce a selection sort\n",
    "    n = len(A) # assigning the length of the list to variable n\n",
    "    for i in range (0, n-1): # creating a for loop to check for every number in the array; i - the number of times the iteration will run. We subtract one from the length of the list because the first number in the list has index 0; thus the last one will have n-1.\n",
    "        min_idx = i # assigning a current minimum value to the number with index i.\n",
    "        for j in range(i+1, n): # creating a nested for loop to check for the number less than current minimum.\n",
    "            if A[j]<A[min_idx]: # check whether there is a number in the rest of the array less than the current minimum. If there is such a number we will enter the if-statement. \n",
    "                min_idx = j # assign the found number to the current minimum \n",
    "       #swap the number with index i with the current minimum:\n",
    "        swapstore = A[i] \n",
    "        A[i] = A[min_idx] \n",
    "        A[min_idx] = swapstore\n",
    "    return A # when the main for-loop checks each number, return the sorted list A\n",
    "\n",
    "# testcases - nothing will be printed if all the statements are True. If any of those are False, the AssertError will appear.\n",
    "assert(selection_sort([100]) == [100])\n",
    "assert(selection_sort([100, -1, 5, 2, 4]) == [-1,2,4,5,100])\n",
    "assert(selection_sort([10,9,8,7,6,5,4,3,2,1]) == [1,2,3,4,5,6,7,8,9,10])"
   ]
  }
 ],
 "metadata": {
  "kernelspec": {
   "display_name": "Python 3 (ipykernel)",
   "language": "python",
   "name": "python3"
  },
  "language_info": {
   "codemirror_mode": {
    "name": "ipython",
    "version": 3
   },
   "file_extension": ".py",
   "mimetype": "text/x-python",
   "name": "python",
   "nbconvert_exporter": "python",
   "pygments_lexer": "ipython3",
   "version": "3.9.7"
  }
 },
 "nbformat": 4,
 "nbformat_minor": 4
}
