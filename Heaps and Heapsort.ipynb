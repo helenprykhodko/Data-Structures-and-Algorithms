{
 "cells": [
  {
   "cell_type": "markdown",
   "id": "7568dbd5",
   "metadata": {},
   "source": [
    "## Heaps and Heapsort ✅"
   ]
  },
  {
   "cell_type": "markdown",
   "id": "40b47127",
   "metadata": {},
   "source": [
    "### Max-Heapify\n",
    "Write a Python implementation of the **MAX-HEAPIFY** operation."
   ]
  },
  {
   "cell_type": "code",
   "execution_count": null,
   "id": "edfe7e47",
   "metadata": {},
   "outputs": [],
   "source": [
    "def left(i):\n",
    "    return 2*i + 1\n",
    "\n",
    "def right(i):\n",
    "    return 2*i + 2"
   ]
  },
  {
   "cell_type": "code",
   "execution_count": null,
   "id": "4c40a1d3",
   "metadata": {},
   "outputs": [],
   "source": [
    "def heapify(heap, i):\n",
    "    \"\"\"\n",
    "    Inputs:\n",
    "    - heap: a list of floats. Assume that the heap size is the length of the heap.\n",
    "    \n",
    "    No output is needed. This function should modify (if necessary) heap in-place.\n",
    "    \"\"\"\n",
    "    # Initialize left and right branches.\n",
    "    l = left(i)\n",
    "    r = right(i)\n",
    "    \n",
    "    # Initialize heap-size.\n",
    "    heapsize = len(heap)-1\n",
    "    \n",
    "    # Start compare at left branch, making sure we are at a correct node.\n",
    "    if l <= heapsize and heap[l] > heap[i]: \n",
    "        maxi = l   # assign child a bigger value\n",
    "    else:\n",
    "        maxi = i   # assign parent a bigger value\n",
    "        \n",
    "    # Compare at right branch.    \n",
    "    if r <= heapsize and heap[r] > heap[maxi]:\n",
    "        maxi = r\n",
    "        \n",
    "    # Swapping if a child is bigger than parent.\n",
    "    if maxi != i:\n",
    "        heap[i],heap[maxi] = heap[maxi],heap[i]\n",
    "    \n",
    "    # Call a function to repeat after one swapping. \n",
    "        heapify(heap, maxi)\n",
    "    \n",
    "    return heap\n",
    "\n",
    "A = [39, 85, 85, 16, 49, 7, 49, 92, 76, 15, 21, 30, 29, 31, 28]\n",
    "heapify(A,0)\n",
    "assert(A == [85, 49, 85, 16, 39, 7, 49, 92, 76, 15, 21, 30, 29, 31, 28])\n",
    "\n",
    "B = [16, 4, 10, 14, 7, 9, 3, 2, 8, 1]\n",
    "heapify(B, 1)\n",
    "assert(B == [16, 14, 10, 8, 7, 9, 3, 2, 4, 1])"
   ]
  },
  {
   "cell_type": "markdown",
   "id": "64c68405",
   "metadata": {},
   "source": [
    "Write a Python implementation of the **BUILD_MAX_HEAP** operation."
   ]
  },
  {
   "cell_type": "code",
   "execution_count": 1,
   "id": "0a34731f",
   "metadata": {},
   "outputs": [],
   "source": [
    "def build_max_heap(A):\n",
    "    \"\"\"\n",
    "    Input:\n",
    "    - A: a list of floats.\n",
    "    \n",
    "    No output is needed. The function should turn A into a valid max heap,       in-place.\n",
    "    \"\"\"\n",
    "    # Assign a heap-size length.\n",
    "    heapsize = len(A)//2\n",
    "    # Loop starting at half of the array.\n",
    "    for i in range(heapsize, -1,-1):  \n",
    "        heapify(A,i)\n",
    "    return A"
   ]
  },
  {
   "cell_type": "markdown",
   "id": "2d101e6b",
   "metadata": {},
   "source": [
    "### Min-Heapify\n",
    "Write a Python implementation of the **MIN-HEAPIFY** and **BUILD-MIN-HEAP**operations for a min-heap data structure. "
   ]
  },
  {
   "cell_type": "code",
   "execution_count": 2,
   "id": "6127e757",
   "metadata": {},
   "outputs": [],
   "source": [
    "def min_heapify(heap, i):\n",
    "    \"\"\"\n",
    "    Inputs:\n",
    "    - heap: a list of floats. Assume that the heap size is the length of the heap.\n",
    "    \n",
    "    No output is needed. This function should modify the heap in-place (if needed).\n",
    "    \"\"\"\n",
    "    # Initialize left and right branches.\n",
    "    l = left(i)\n",
    "    r = right(i)\n",
    "    \n",
    "    # Initialize heap-size.\n",
    "    heapsize = len(heap)-1\n",
    "    \n",
    "    # Start compare at left branch, making sure we are at a correct node.\n",
    "    if l <= heapsize and heap[l] < heap[i]: \n",
    "        mini = l   # assign child a bigger value\n",
    "    else:\n",
    "        mini = i   # assign parent a bigger value\n",
    "        \n",
    "    # Compare at right branch.    \n",
    "    if r <= heapsize and heap[r] < heap[mini]:\n",
    "        mini = r\n",
    "        \n",
    "    # Swapping if a child is bigger than parent.\n",
    "    if mini != i:\n",
    "        heap[i],heap[mini] = heap[mini],heap[i]\n",
    "    \n",
    "    # Call a function to repeat after one swapping. \n",
    "        min_heapify(heap, mini)\n",
    "    return heap\n",
    "\n",
    "def build_min_heap(A):\n",
    "    \"\"\"\n",
    "    Input:\n",
    "    - A: a list of floats.\n",
    "    \n",
    "    No output is needed. The function should turn A into a valid min heap, in-place.\n",
    "    \"\"\"\n",
    "    heapsize = len(A)//2\n",
    "    for i in range(heapsize, -1,-1):  \n",
    "        min_heapify(A,i)\n",
    "    return A"
   ]
  }
 ],
 "metadata": {
  "kernelspec": {
   "display_name": "Python 3 (ipykernel)",
   "language": "python",
   "name": "python3"
  },
  "language_info": {
   "codemirror_mode": {
    "name": "ipython",
    "version": 3
   },
   "file_extension": ".py",
   "mimetype": "text/x-python",
   "name": "python",
   "nbconvert_exporter": "python",
   "pygments_lexer": "ipython3",
   "version": "3.9.7"
  }
 },
 "nbformat": 4,
 "nbformat_minor": 5
}
